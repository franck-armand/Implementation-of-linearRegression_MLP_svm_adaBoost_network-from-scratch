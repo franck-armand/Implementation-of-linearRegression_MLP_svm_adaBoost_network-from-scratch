{
 "cells": [
  {
   "cell_type": "code",
   "execution_count": 100,
   "metadata": {},
   "outputs": [
    {
     "data": {
      "image/png": "[encoded data removed]",
      "text/plain": [
       "<Figure size 432x288 with 1 Axes>"
      ]
     },
     "metadata": {
      "needs_background": "light"
     },
     "output_type": "display_data"
    },
    {
     "data": {
      "image/png": "[encoded data removed]",
      "text/plain": [
       "<Figure size 432x288 with 1 Axes>"
      ]
     },
     "metadata": {
      "needs_background": "light"
     },
     "output_type": "display_data"
    }
   ],
   "source": [
    "import numpy as np\n",
    "import matplotlib.pyplot as plt\n",
    "import pandas as pd\n",
    "\n",
    "# mu = []\n",
    "# std = []\n",
    "\n",
    "def load_data(filename):\n",
    "\tdf = pd.read_csv(filename)\n",
    "\tdata = np.array(df)\n",
    "\tplot_data(data[:,:1], data[:, -1])\n",
    "\t# normalize(data)\n",
    "\treturn data[:,:1], data[:, -1]\n",
    "\n",
    "def plot_data(x, y):\n",
    "\tplt.xlabel('x_values')\n",
    "\tplt.ylabel('y_values')\n",
    "\tplt.plot(x[:,0], y, 'bo')\n",
    "\tplt.show()\n",
    "\n",
    "def normalize(data):\n",
    "\tfor i in range(0,data.shape[1]-1):\n",
    "\t\tdata[:,i] = ((data[:,i] - np.mean(data[:,i]))/np.std(data[:, i]))\n",
    "\t\tmu.append(np.mean(data[:,i]))\n",
    "\t\tstd.append(np.std(data[:, i]))\n",
    "\n",
    "def h(x,theta):\n",
    "\treturn np.matmul(x, theta)\n",
    "\n",
    "def cost_function(x, y, theta):\n",
    "\treturn ((h(x, theta)-y).T@(h(x, theta)-y))/(2*y.shape[0])\n",
    "\n",
    "def gradient_descent(x, y, theta, learning_rate=0.01, num_epochs=80):\n",
    "\tm = x.shape[0]\n",
    "\tJ_all = []\n",
    "\t\n",
    "\tfor _ in range(num_epochs):\n",
    "\t\th_x = h(x, theta)\n",
    "\t\tcost_ = (1/m)*(x.T@(h_x - y))\n",
    "\t\ttheta = theta - (learning_rate)*cost_\n",
    "\t\tJ_all.append(cost_function(x, y, theta))\n",
    "\n",
    "\treturn theta, J_all \n",
    "\n",
    "x,y = load_data(\"../regression_dataset/regression_train.csv\")\n",
    "y = np.reshape(y, (10000,1))\n",
    "x = np.hstack((np.ones((x.shape[0],1)), x))\n",
    "\n",
    "theta = np.zeros((x.shape[1], 1))\n",
    "learning_rate = 0.1\n",
    "num_epochs = 100\n",
    "theta, J_all = gradient_descent(x, y, theta, learning_rate, num_epochs)\n",
    "\n",
    "J = cost_function(x, y, theta)\n",
    "\n",
    "# print(\"Cost: \", J)\n",
    "# print(\"Parameters: \", theta)\n",
    "\n",
    "def plot_cost(J_all, num_epochs):\n",
    "\tplt.xlabel('Epochs')\n",
    "\tplt.ylabel('Cost')\n",
    "\tplt.plot(num_epochs, J_all, 'm', linewidth = \"3\")\n",
    "\tplt.show()\n",
    "\n",
    "def test(theta, x):\n",
    "\tpredicted_test_y = []\n",
    "\tfor i in x_test_arr:\n",
    "\n",
    "\t\t# x[0] = (x[0] - mu[0])/std[0]\n",
    "\t\ty = theta[0] + theta[1]*i\n",
    "\t\t# print(\"i= \",i)\n",
    "\t\t# print(\"y = \",y)\n",
    "\t\t# print(\"The value of X is: \", len(predicted_test_y))\n",
    "\t\tpredicted_test_y.append(y)\n",
    "\n",
    "\t# Save prediction\n",
    "\tdf = pd.DataFrame(predicted_test_y)\n",
    "\tdf.to_csv('predicted_regression_imp_1.csv', index=False)\n",
    "\t\n",
    "\n",
    "#for testing and plotting cost \n",
    "n_epochs = []\n",
    "jplot = []\n",
    "count = 0\n",
    "for i in J_all:\n",
    "\tjplot.append(i[0][0])\n",
    "\tn_epochs.append(count)\n",
    "\tcount += 1\n",
    "jplot = np.array(jplot)\n",
    "n_epochs = np.array(n_epochs)\n",
    "plot_cost(jplot, n_epochs)\n",
    "\n",
    "data_test = pd.read_csv(\"../regression_dataset/regression_test.csv\")\n",
    "x_test = np.array(data_test)\n",
    "x_test_arr = x_test[:,:1]\n",
    "test(theta, x_test_arr)"
   ]
  }
 ],
 "metadata": {
  "kernelspec": {
   "display_name": "Python 3.7.6 ('base')",
   "language": "python",
   "name": "python3"
  },
  "language_info": {
   "codemirror_mode": {
    "name": "ipython",
    "version": 3
   },
   "file_extension": ".py",
   "mimetype": "text/x-python",
   "name": "python",
   "nbconvert_exporter": "python",
   "pygments_lexer": "ipython3",
   "version": "3.7.6"
  },
  "orig_nbformat": 4,
  "vscode": {
   "interpreter": {
    "hash": "db816d7616de24ade41e083521320c478457ecc7c227d9955d702456c2841bc9"
   }
  }
 },
 "nbformat": 4,
 "nbformat_minor": 2
}
