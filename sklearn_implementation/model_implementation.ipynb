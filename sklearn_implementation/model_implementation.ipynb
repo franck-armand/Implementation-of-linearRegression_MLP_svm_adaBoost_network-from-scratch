{
 "cells": [
  {
   "cell_type": "markdown",
   "metadata": {},
   "source": [
    "### **AdaBoost model Implementation**"
   ]
  },
  {
   "cell_type": "code",
   "execution_count": 22,
   "metadata": {},
   "outputs": [
    {
     "name": "stdout",
     "output_type": "stream",
     "text": [
      "Training error:  0.059\n",
      "Model test Score: 0.940,  Model training Score: 0.941\n"
     ]
    }
   ],
   "source": [
    "from sklearn.ensemble import AdaBoostClassifier\n",
    "from sklearn.model_selection import train_test_split as tts\n",
    "from sklearn.preprocessing import StandardScaler\n",
    "from sklearn.tree import DecisionTreeClassifier\n",
    "import pandas as pd\n",
    "import numpy as np\n",
    "\n",
    "data_train = \"../classification_dataset/classification_train.csv\"\n",
    "data_train = pd.read_csv(data_train)\n",
    "X = np.array(data_train.iloc[:,0:2])\n",
    "y = np.array(data_train.iloc[:,-1])\n",
    "X_train, X_test, y_train, y_test = tts(X, y, test_size=0.2, random_state=58)\n",
    "\n",
    "sc = StandardScaler()\n",
    "sc.fit(X_train)\n",
    "X_train_std = sc.fit_transform(X_train)\n",
    "X_test_std = sc.transform(X_test)\n",
    "\n",
    "dtree = DecisionTreeClassifier(criterion='entropy', max_depth=1, random_state=1)\n",
    "adbclassifier = AdaBoostClassifier(base_estimator=dtree,\n",
    "                                   n_estimators=100,\n",
    "                                   learning_rate=0.0005,\n",
    "                                   algorithm = 'SAMME',\n",
    "                                   random_state=1)\n",
    "\n",
    "\n",
    "# clf = AdaBoostClassifier(n_estimators=10, algorithm='SAMME').fit(X_train, y_train)\n",
    "adbclassifier.fit(X_train_std, y_train)\n",
    "train_err = (adbclassifier.predict(X) != y).mean()\n",
    "print(\"Training error: \", train_err)\n",
    "print('Model test Score: %.3f, ' %adbclassifier.score(X_test_std, y_test),\n",
    "      'Model training Score: %.3f' %adbclassifier.score(X_train, y_train))\n",
    "\n",
    "\n",
    "data_test = \"../classification_dataset/classification_test.csv\"\n",
    "data = pd.read_csv(data_test)\n",
    "X = np.array(data[['x_1','x_2']])\n",
    "\n",
    "Y = adbclassifier.predict(X)\n",
    "predicted_Y = pd.DataFrame(Y)\n",
    "print('=============Saving prediction====================================\"')\n",
    "predicted_Y.to_csv('predicted_adaBoost_sklearn.csv', index = False, header = False)\n",
    "print('=============Saved prediction====================================\"')"
   ]
  },
  {
   "cell_type": "markdown",
   "metadata": {},
   "source": [
    "### **SVM model implementation**"
   ]
  },
  {
   "cell_type": "code",
   "execution_count": 35,
   "metadata": {},
   "outputs": [
    {
     "name": "stdout",
     "output_type": "stream",
     "text": [
      "Accuracy: 0.955\n",
      "=============Saving prediction====================================\"\n",
      "=============Saved prediction====================================\"\n"
     ]
    }
   ],
   "source": [
    "from sklearn.svm import SVC\n",
    "from sklearn.model_selection import train_test_split as tts\n",
    "from sklearn.preprocessing import StandardScaler\n",
    "from sklearn.metrics import accuracy_score\n",
    "import pandas as pd\n",
    "import numpy as np\n",
    "\n",
    "# data loading \n",
    "data_train = \"../classification_dataset/classification_train.csv\"\n",
    "df_data_train = pd.read_csv(data_train)\n",
    "X = np.array(df_data_train.iloc[:,0:2])\n",
    "y = np.array(df_data_train.iloc[:,-1])\n",
    "\n",
    "# data splitting\n",
    "X_train, X_test, y_train, y_test = tts(X, y, test_size=0.2, random_state=1)\n",
    "\n",
    "# Feature Scaling\n",
    "sc = StandardScaler()\n",
    "sc.fit(X_train)\n",
    "X_train_std = sc.transform(X_train)\n",
    "X_test_std = sc.transform(X_test)\n",
    "\n",
    "# Training a SVM classifier\n",
    "svm = SVC(kernel= 'rbf', random_state=1, C=0.1)\n",
    "svm.fit(X_train, y_train)\n",
    " \n",
    "# Mode performance\n",
    "y_pred = svm.predict(X_test)\n",
    "print('Accuracy: %.3f' %accuracy_score(y_test, y_pred))\n",
    "\n",
    "df_predicted_Y = pd.DataFrame(predicted_val_y)\n",
    "# df_predicted_Y\n",
    "\n",
    "# prediction on test data\n",
    "data_test = \"../classification_dataset/classification_test.csv\"\n",
    "data = pd.read_csv(data_test)\n",
    "X = np.array(data[['x_1','x_2']])\n",
    "Y = svm.predict(X)\n",
    "predicted_Y = pd.DataFrame(Y)\n",
    "print('=============Saving prediction====================================\"')\n",
    "predicted_Y.to_csv('predicted_svm_sklearn.csv', index = False, header = False)\n",
    "print('=============Saved prediction====================================\"')\n"
   ]
  },
  {
   "cell_type": "markdown",
   "metadata": {},
   "source": [
    "### **Regression model**"
   ]
  },
  {
   "cell_type": "code",
   "execution_count": 18,
   "metadata": {},
   "outputs": [
    {
     "name": "stdout",
     "output_type": "stream",
     "text": [
      "[[1.]]\n",
      "[2.77555756e-17]\n",
      "Model test Score: 1.000,  Model training Score: 1.000\n",
      "Model Evaluation Score: 1.000, \n"
     ]
    },
    {
     "data": {
      "text/html": [
       "<div>\n",
       "<style scoped>\n",
       "    .dataframe tbody tr th:only-of-type {\n",
       "        vertical-align: middle;\n",
       "    }\n",
       "\n",
       "    .dataframe tbody tr th {\n",
       "        vertical-align: top;\n",
       "    }\n",
       "\n",
       "    .dataframe thead th {\n",
       "        text-align: right;\n",
       "    }\n",
       "</style>\n",
       "<table border=\"1\" class=\"dataframe\">\n",
       "  <thead>\n",
       "    <tr style=\"text-align: right;\">\n",
       "      <th></th>\n",
       "      <th>0</th>\n",
       "    </tr>\n",
       "  </thead>\n",
       "  <tbody>\n",
       "    <tr>\n",
       "      <th>0</th>\n",
       "      <td>8.739428</td>\n",
       "    </tr>\n",
       "    <tr>\n",
       "      <th>1</th>\n",
       "      <td>29.168810</td>\n",
       "    </tr>\n",
       "    <tr>\n",
       "      <th>2</th>\n",
       "      <td>-44.642598</td>\n",
       "    </tr>\n",
       "    <tr>\n",
       "      <th>3</th>\n",
       "      <td>-19.634700</td>\n",
       "    </tr>\n",
       "    <tr>\n",
       "      <th>4</th>\n",
       "      <td>-44.507558</td>\n",
       "    </tr>\n",
       "    <tr>\n",
       "      <th>...</th>\n",
       "      <td>...</td>\n",
       "    </tr>\n",
       "    <tr>\n",
       "      <th>995</th>\n",
       "      <td>-44.577870</td>\n",
       "    </tr>\n",
       "    <tr>\n",
       "      <th>996</th>\n",
       "      <td>-27.914020</td>\n",
       "    </tr>\n",
       "    <tr>\n",
       "      <th>997</th>\n",
       "      <td>38.165778</td>\n",
       "    </tr>\n",
       "    <tr>\n",
       "      <th>998</th>\n",
       "      <td>6.475633</td>\n",
       "    </tr>\n",
       "    <tr>\n",
       "      <th>999</th>\n",
       "      <td>-30.719490</td>\n",
       "    </tr>\n",
       "  </tbody>\n",
       "</table>\n",
       "<p>1000 rows × 1 columns</p>\n",
       "</div>"
      ],
      "text/plain": [
       "             0\n",
       "0     8.739428\n",
       "1    29.168810\n",
       "2   -44.642598\n",
       "3   -19.634700\n",
       "4   -44.507558\n",
       "..         ...\n",
       "995 -44.577870\n",
       "996 -27.914020\n",
       "997  38.165778\n",
       "998   6.475633\n",
       "999 -30.719490\n",
       "\n",
       "[1000 rows x 1 columns]"
      ]
     },
     "execution_count": 18,
     "metadata": {},
     "output_type": "execute_result"
    }
   ],
   "source": [
    "import numpy as np\n",
    "import pandas as pd\n",
    "from sklearn.linear_model import LinearRegression\n",
    "from sklearn.preprocessing import StandardScaler\n",
    "from sklearn.model_selection import train_test_split as tts\n",
    "\n",
    "data_train = \"../regression_dataset/regression_train.csv\"\n",
    "data_train = pd.read_csv(data_train)\n",
    "X = np.array(data_train.iloc[:,0:1])\n",
    "y = np.array(data_train.iloc[:,:-1])\n",
    "\n",
    "# data splitting\n",
    "X_train, X_test, y_train, y_test = tts(X, y, test_size=0.2, random_state=1)\n",
    "\n",
    "# Feature Scaling\n",
    "sc = StandardScaler()\n",
    "sc.fit(X_train)\n",
    "X_train_std = sc.transform(X_train)\n",
    "X_test_std = sc.transform(X_test)\n",
    "\n",
    "reg = LinearRegression().fit(X_train, y_train)\n",
    "\n",
    "print(reg.coef_)\n",
    "print(reg.intercept_)\n",
    "print('Model test Score: %.3f, ' %reg.score(X_test, y_test),\n",
    "      'Model training Score: %.3f' %reg.score(X_train, y_train))\n",
    "\n",
    "\n",
    "data_eval = \"../regression_dataset/regression_val.csv\"\n",
    "data = pd.read_csv(data_eval)\n",
    "x_val = np.array(data.iloc[:,0:1])\n",
    "y_val = np.array(data.iloc[:,:-1])\n",
    "print('Model Evaluation Score: %.3f, ' %reg.score(x_val, y_val))\n",
    "predicted_val_y =  reg.predict(x_val)\n",
    "predicted_Y = pd.DataFrame(predicted_val_y)\n",
    "# predicted_Y\n",
    "# data_test = \"../regression_dataset/regression_test.csv\"\n",
    "# data = pd.read_csv(data_test)\n",
    "# X = np.array(data[['x']])\n",
    "\n",
    "# Y = svm.predict(X)\n",
    "# predicted_Y = pd.DataFrame(Y)\n",
    "# print('=============Saving prediction====================================\"')\n",
    "# predicted_Y.to_csv('predicted_linear_regression_sklearn.csv', index = False, header = False)\n",
    "# print('=============Saved prediction====================================\"')"
   ]
  },
  {
   "cell_type": "code",
   "execution_count": null,
   "metadata": {},
   "outputs": [],
   "source": []
  }
 ],
 "metadata": {
  "kernelspec": {
   "display_name": "Python 3.7.6 ('base')",
   "language": "python",
   "name": "python3"
  },
  "language_info": {
   "codemirror_mode": {
    "name": "ipython",
    "version": 3
   },
   "file_extension": ".py",
   "mimetype": "text/x-python",
   "name": "python",
   "nbconvert_exporter": "python",
   "pygments_lexer": "ipython3",
   "version": "3.7.6"
  },
  "orig_nbformat": 4,
  "vscode": {
   "interpreter": {
    "hash": "db816d7616de24ade41e083521320c478457ecc7c227d9955d702456c2841bc9"
   }
  }
 },
 "nbformat": 4,
 "nbformat_minor": 2
}
